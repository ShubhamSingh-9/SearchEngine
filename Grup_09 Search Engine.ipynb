{
  "nbformat": 4,
  "nbformat_minor": 0,
  "metadata": {
    "colab": {
      "provenance": [],
      "toc_visible": true
    },
    "kernelspec": {
      "name": "python3",
      "display_name": "Python 3"
    }
  },
  "cells": [
    {
      "cell_type": "code",
      "source": [
        "!pip install spacy\n",
        "!pip install rank-bm25\n",
        "!pip install nmslib\n",
        "import os\n",
        "import pandas as pd\n",
        "import numpy as np\n",
        "import pickle\n",
        "import spacy\n",
        "from tqdm import tqdm\n",
        "import matplotlib.pyplot as plt\n",
        "from gensim.models.fasttext import FastText\n",
        "!pip install rank_bm25 --quiet #install BM25\n",
        "!pip install --no-binary :all: nmslib #install nmslib\n",
        "from rank_bm25 import BM25Okapi\n",
        "import time\n",
        "import nmslib\n",
        "#from google.colab import drive\n",
        "\n",
        "# drive.mount('/content/drive') # if you want to use G Drive\n",
        "#pd.set_option('display.max_colwidth', -1)\n",
        "#plt.style.use('fivethirtyeight')"
      ],
      "metadata": {
        "id": "FlZuFfsRESXG",
        "outputId": "b8ad3acd-668d-484b-db46-45cec3439d38",
        "colab": {
          "base_uri": "https://localhost:8080/"
        }
      },
      "execution_count": null,
      "outputs": [
        {
          "output_type": "stream",
          "name": "stdout",
          "text": [
            "Looking in indexes: https://pypi.org/simple, https://us-python.pkg.dev/colab-wheels/public/simple/\n",
            "Requirement already satisfied: spacy in /usr/local/lib/python3.8/dist-packages (3.4.4)\n",
            "Requirement already satisfied: pydantic!=1.8,!=1.8.1,<1.11.0,>=1.7.4 in /usr/local/lib/python3.8/dist-packages (from spacy) (1.10.5)\n",
            "Requirement already satisfied: tqdm<5.0.0,>=4.38.0 in /usr/local/lib/python3.8/dist-packages (from spacy) (4.64.1)\n",
            "Requirement already satisfied: thinc<8.2.0,>=8.1.0 in /usr/local/lib/python3.8/dist-packages (from spacy) (8.1.7)\n",
            "Requirement already satisfied: catalogue<2.1.0,>=2.0.6 in /usr/local/lib/python3.8/dist-packages (from spacy) (2.0.8)\n",
            "Requirement already satisfied: setuptools in /usr/local/lib/python3.8/dist-packages (from spacy) (57.4.0)\n",
            "Requirement already satisfied: requests<3.0.0,>=2.13.0 in /usr/local/lib/python3.8/dist-packages (from spacy) (2.25.1)\n",
            "Requirement already satisfied: typer<0.8.0,>=0.3.0 in /usr/local/lib/python3.8/dist-packages (from spacy) (0.7.0)\n",
            "Requirement already satisfied: preshed<3.1.0,>=3.0.2 in /usr/local/lib/python3.8/dist-packages (from spacy) (3.0.8)\n",
            "Requirement already satisfied: srsly<3.0.0,>=2.4.3 in /usr/local/lib/python3.8/dist-packages (from spacy) (2.4.5)\n",
            "Requirement already satisfied: pathy>=0.3.5 in /usr/local/lib/python3.8/dist-packages (from spacy) (0.10.1)\n",
            "Requirement already satisfied: smart-open<7.0.0,>=5.2.1 in /usr/local/lib/python3.8/dist-packages (from spacy) (6.3.0)\n",
            "Requirement already satisfied: jinja2 in /usr/local/lib/python3.8/dist-packages (from spacy) (3.1.2)\n",
            "Requirement already satisfied: cymem<2.1.0,>=2.0.2 in /usr/local/lib/python3.8/dist-packages (from spacy) (2.0.7)\n",
            "Requirement already satisfied: numpy>=1.15.0 in /usr/local/lib/python3.8/dist-packages (from spacy) (1.22.4)\n",
            "Requirement already satisfied: wasabi<1.1.0,>=0.9.1 in /usr/local/lib/python3.8/dist-packages (from spacy) (0.10.1)\n",
            "Requirement already satisfied: packaging>=20.0 in /usr/local/lib/python3.8/dist-packages (from spacy) (23.0)\n",
            "Requirement already satisfied: langcodes<4.0.0,>=3.2.0 in /usr/local/lib/python3.8/dist-packages (from spacy) (3.3.0)\n",
            "Requirement already satisfied: spacy-legacy<3.1.0,>=3.0.10 in /usr/local/lib/python3.8/dist-packages (from spacy) (3.0.12)\n",
            "Requirement already satisfied: spacy-loggers<2.0.0,>=1.0.0 in /usr/local/lib/python3.8/dist-packages (from spacy) (1.0.4)\n",
            "Requirement already satisfied: murmurhash<1.1.0,>=0.28.0 in /usr/local/lib/python3.8/dist-packages (from spacy) (1.0.9)\n",
            "Requirement already satisfied: typing-extensions>=4.2.0 in /usr/local/lib/python3.8/dist-packages (from pydantic!=1.8,!=1.8.1,<1.11.0,>=1.7.4->spacy) (4.5.0)\n",
            "Requirement already satisfied: idna<3,>=2.5 in /usr/local/lib/python3.8/dist-packages (from requests<3.0.0,>=2.13.0->spacy) (2.10)\n",
            "Requirement already satisfied: chardet<5,>=3.0.2 in /usr/local/lib/python3.8/dist-packages (from requests<3.0.0,>=2.13.0->spacy) (4.0.0)\n",
            "Requirement already satisfied: urllib3<1.27,>=1.21.1 in /usr/local/lib/python3.8/dist-packages (from requests<3.0.0,>=2.13.0->spacy) (1.26.14)\n",
            "Requirement already satisfied: certifi>=2017.4.17 in /usr/local/lib/python3.8/dist-packages (from requests<3.0.0,>=2.13.0->spacy) (2022.12.7)\n",
            "Requirement already satisfied: blis<0.8.0,>=0.7.8 in /usr/local/lib/python3.8/dist-packages (from thinc<8.2.0,>=8.1.0->spacy) (0.7.9)\n",
            "Requirement already satisfied: confection<1.0.0,>=0.0.1 in /usr/local/lib/python3.8/dist-packages (from thinc<8.2.0,>=8.1.0->spacy) (0.0.4)\n",
            "Requirement already satisfied: click<9.0.0,>=7.1.1 in /usr/local/lib/python3.8/dist-packages (from typer<0.8.0,>=0.3.0->spacy) (8.1.3)\n",
            "Requirement already satisfied: MarkupSafe>=2.0 in /usr/local/lib/python3.8/dist-packages (from jinja2->spacy) (2.1.2)\n",
            "Looking in indexes: https://pypi.org/simple, https://us-python.pkg.dev/colab-wheels/public/simple/\n",
            "Requirement already satisfied: rank-bm25 in /usr/local/lib/python3.8/dist-packages (0.2.2)\n",
            "Requirement already satisfied: numpy in /usr/local/lib/python3.8/dist-packages (from rank-bm25) (1.22.4)\n",
            "Looking in indexes: https://pypi.org/simple, https://us-python.pkg.dev/colab-wheels/public/simple/\n",
            "Requirement already satisfied: nmslib in /usr/local/lib/python3.8/dist-packages (2.1.1)\n",
            "Requirement already satisfied: pybind11<2.6.2 in /usr/local/lib/python3.8/dist-packages (from nmslib) (2.6.1)\n",
            "Requirement already satisfied: psutil in /usr/local/lib/python3.8/dist-packages (from nmslib) (5.4.8)\n",
            "Requirement already satisfied: numpy>=1.10.0 in /usr/local/lib/python3.8/dist-packages (from nmslib) (1.22.4)\n"
          ]
        },
        {
          "output_type": "stream",
          "name": "stderr",
          "text": [
            "/usr/local/lib/python3.8/dist-packages/torch/cuda/__init__.py:497: UserWarning: Can't initialize NVML\n",
            "  warnings.warn(\"Can't initialize NVML\")\n"
          ]
        },
        {
          "output_type": "stream",
          "name": "stdout",
          "text": [
            "Looking in indexes: https://pypi.org/simple, https://us-python.pkg.dev/colab-wheels/public/simple/\n",
            "Requirement already satisfied: nmslib in /usr/local/lib/python3.8/dist-packages (2.1.1)\n",
            "Requirement already satisfied: pybind11<2.6.2 in /usr/local/lib/python3.8/dist-packages (from nmslib) (2.6.1)\n",
            "Requirement already satisfied: psutil in /usr/local/lib/python3.8/dist-packages (from nmslib) (5.4.8)\n",
            "Requirement already satisfied: numpy>=1.10.0 in /usr/local/lib/python3.8/dist-packages (from nmslib) (1.22.4)\n"
          ]
        }
      ]
    },
    {
      "cell_type": "code",
      "metadata": {
        "id": "v1z4PTE_l9aE",
        "outputId": "cc653973-e38c-4e30-abe5-0e58f0c3a319",
        "colab": {
          "base_uri": "https://localhost:8080/"
        }
      },
      "source": [
        "df = pd.read_csv('run_results.csv')\n",
        "df['text'] = df['Tender_name'] + ' ' + df['Tender_Tender_desc']+ ' ' + df['Tender_Publication_date']+ ' ' + df['Tender_Closing_date']+ ' ' + df['Tender_Contract_value']+ ' ' + df['Tender_Location']\n",
        "df.shape\n"
      ],
      "execution_count": null,
      "outputs": [
        {
          "output_type": "execute_result",
          "data": {
            "text/plain": [
              "(220, 8)"
            ]
          },
          "metadata": {},
          "execution_count": 5
        }
      ]
    },
    {
      "cell_type": "code",
      "metadata": {
        "id": "krRfSYDew1_D",
        "outputId": "d23fdead-ebee-4c6c-ca57-480b14499a8c",
        "colab": {
          "base_uri": "https://localhost:8080/",
          "height": 214
        }
      },
      "source": [
        "df.head(1)"
      ],
      "execution_count": null,
      "outputs": [
        {
          "output_type": "execute_result",
          "data": {
            "text/plain": [
              "                                       Tender_name  \\\n",
              "0  CA11819 - Hebburn Extra Care Development scheme   \n",
              "\n",
              "                                          Tender_url  \\\n",
              "0  https://www.contractsfinder.service.gov.uk/not...   \n",
              "\n",
              "                                  Tender_Tender_desc  \\\n",
              "0  An Open tender is being carried out under the ...   \n",
              "\n",
              "                             Tender_Publication_date  \\\n",
              "0  Publication date 7 February 2023, last edited ...   \n",
              "\n",
              "           Tender_Closing_date       Tender_Contract_value  \\\n",
              "0  Closing 24 March 2023, 12pm  Contract value £26,000,000   \n",
              "\n",
              "              Tender_Location  \\\n",
              "0  Contract location NE12 8EG   \n",
              "\n",
              "                                                text  \n",
              "0  CA11819 - Hebburn Extra Care Development schem...  "
            ],
            "text/html": [
              "\n",
              "  <div id=\"df-ed1af993-fb9a-4209-87d2-0bea706a51fb\">\n",
              "    <div class=\"colab-df-container\">\n",
              "      <div>\n",
              "<style scoped>\n",
              "    .dataframe tbody tr th:only-of-type {\n",
              "        vertical-align: middle;\n",
              "    }\n",
              "\n",
              "    .dataframe tbody tr th {\n",
              "        vertical-align: top;\n",
              "    }\n",
              "\n",
              "    .dataframe thead th {\n",
              "        text-align: right;\n",
              "    }\n",
              "</style>\n",
              "<table border=\"1\" class=\"dataframe\">\n",
              "  <thead>\n",
              "    <tr style=\"text-align: right;\">\n",
              "      <th></th>\n",
              "      <th>Tender_name</th>\n",
              "      <th>Tender_url</th>\n",
              "      <th>Tender_Tender_desc</th>\n",
              "      <th>Tender_Publication_date</th>\n",
              "      <th>Tender_Closing_date</th>\n",
              "      <th>Tender_Contract_value</th>\n",
              "      <th>Tender_Location</th>\n",
              "      <th>text</th>\n",
              "    </tr>\n",
              "  </thead>\n",
              "  <tbody>\n",
              "    <tr>\n",
              "      <th>0</th>\n",
              "      <td>CA11819 - Hebburn Extra Care Development scheme</td>\n",
              "      <td>https://www.contractsfinder.service.gov.uk/not...</td>\n",
              "      <td>An Open tender is being carried out under the ...</td>\n",
              "      <td>Publication date 7 February 2023, last edited ...</td>\n",
              "      <td>Closing 24 March 2023, 12pm</td>\n",
              "      <td>Contract value £26,000,000</td>\n",
              "      <td>Contract location NE12 8EG</td>\n",
              "      <td>CA11819 - Hebburn Extra Care Development schem...</td>\n",
              "    </tr>\n",
              "  </tbody>\n",
              "</table>\n",
              "</div>\n",
              "      <button class=\"colab-df-convert\" onclick=\"convertToInteractive('df-ed1af993-fb9a-4209-87d2-0bea706a51fb')\"\n",
              "              title=\"Convert this dataframe to an interactive table.\"\n",
              "              style=\"display:none;\">\n",
              "        \n",
              "  <svg xmlns=\"http://www.w3.org/2000/svg\" height=\"24px\"viewBox=\"0 0 24 24\"\n",
              "       width=\"24px\">\n",
              "    <path d=\"M0 0h24v24H0V0z\" fill=\"none\"/>\n",
              "    <path d=\"M18.56 5.44l.94 2.06.94-2.06 2.06-.94-2.06-.94-.94-2.06-.94 2.06-2.06.94zm-11 1L8.5 8.5l.94-2.06 2.06-.94-2.06-.94L8.5 2.5l-.94 2.06-2.06.94zm10 10l.94 2.06.94-2.06 2.06-.94-2.06-.94-.94-2.06-.94 2.06-2.06.94z\"/><path d=\"M17.41 7.96l-1.37-1.37c-.4-.4-.92-.59-1.43-.59-.52 0-1.04.2-1.43.59L10.3 9.45l-7.72 7.72c-.78.78-.78 2.05 0 2.83L4 21.41c.39.39.9.59 1.41.59.51 0 1.02-.2 1.41-.59l7.78-7.78 2.81-2.81c.8-.78.8-2.07 0-2.86zM5.41 20L4 18.59l7.72-7.72 1.47 1.35L5.41 20z\"/>\n",
              "  </svg>\n",
              "      </button>\n",
              "      \n",
              "  <style>\n",
              "    .colab-df-container {\n",
              "      display:flex;\n",
              "      flex-wrap:wrap;\n",
              "      gap: 12px;\n",
              "    }\n",
              "\n",
              "    .colab-df-convert {\n",
              "      background-color: #E8F0FE;\n",
              "      border: none;\n",
              "      border-radius: 50%;\n",
              "      cursor: pointer;\n",
              "      display: none;\n",
              "      fill: #1967D2;\n",
              "      height: 32px;\n",
              "      padding: 0 0 0 0;\n",
              "      width: 32px;\n",
              "    }\n",
              "\n",
              "    .colab-df-convert:hover {\n",
              "      background-color: #E2EBFA;\n",
              "      box-shadow: 0px 1px 2px rgba(60, 64, 67, 0.3), 0px 1px 3px 1px rgba(60, 64, 67, 0.15);\n",
              "      fill: #174EA6;\n",
              "    }\n",
              "\n",
              "    [theme=dark] .colab-df-convert {\n",
              "      background-color: #3B4455;\n",
              "      fill: #D2E3FC;\n",
              "    }\n",
              "\n",
              "    [theme=dark] .colab-df-convert:hover {\n",
              "      background-color: #434B5C;\n",
              "      box-shadow: 0px 1px 3px 1px rgba(0, 0, 0, 0.15);\n",
              "      filter: drop-shadow(0px 1px 2px rgba(0, 0, 0, 0.3));\n",
              "      fill: #FFFFFF;\n",
              "    }\n",
              "  </style>\n",
              "\n",
              "      <script>\n",
              "        const buttonEl =\n",
              "          document.querySelector('#df-ed1af993-fb9a-4209-87d2-0bea706a51fb button.colab-df-convert');\n",
              "        buttonEl.style.display =\n",
              "          google.colab.kernel.accessAllowed ? 'block' : 'none';\n",
              "\n",
              "        async function convertToInteractive(key) {\n",
              "          const element = document.querySelector('#df-ed1af993-fb9a-4209-87d2-0bea706a51fb');\n",
              "          const dataTable =\n",
              "            await google.colab.kernel.invokeFunction('convertToInteractive',\n",
              "                                                     [key], {});\n",
              "          if (!dataTable) return;\n",
              "\n",
              "          const docLinkHtml = 'Like what you see? Visit the ' +\n",
              "            '<a target=\"_blank\" href=https://colab.research.google.com/notebooks/data_table.ipynb>data table notebook</a>'\n",
              "            + ' to learn more about interactive tables.';\n",
              "          element.innerHTML = '';\n",
              "          dataTable['output_type'] = 'display_data';\n",
              "          await google.colab.output.renderOutput(dataTable, element);\n",
              "          const docLink = document.createElement('div');\n",
              "          docLink.innerHTML = docLinkHtml;\n",
              "          element.appendChild(docLink);\n",
              "        }\n",
              "      </script>\n",
              "    </div>\n",
              "  </div>\n",
              "  "
            ]
          },
          "metadata": {},
          "execution_count": 6
        }
      ]
    },
    {
      "cell_type": "code",
      "metadata": {
        "id": "Bdqu_tJFBD_c",
        "outputId": "8e8e638a-a80b-465d-a2cc-c889c59cf118",
        "colab": {
          "base_uri": "https://localhost:8080/"
        }
      },
      "source": [
        "def fix_text(x):\n",
        "  \"\"\"This function does nothing but leaving\n",
        "  here as a placeholder for basic text cleaning\"\"\"\n",
        "  return x\n",
        "\n",
        "nlp = spacy.load(\"en_core_web_sm\")\n",
        "tok_text=[] # for our tokenised corpus\n",
        "text = df.text.str.lower().values\n",
        "text = [fix_text(str(i)) for i in text]\n",
        "\n",
        "#Tokenising using SpaCy:\n",
        "for doc in tqdm(nlp.pipe(text, disable=[\"tagger\", \"parser\",\"ner\"]), total=len(text), desc=\"Tokenizing text\"):\n",
        "    tok = [t.text for t in doc if (t.is_ascii and not t.is_punct and not t.is_space)]\n",
        "    tok_text.append(tok)"
      ],
      "execution_count": null,
      "outputs": [
        {
          "output_type": "stream",
          "name": "stderr",
          "text": [
            "Tokenizing text:   0%|          | 0/220 [00:00<?, ?it/s]/usr/local/lib/python3.8/dist-packages/spacy/pipeline/lemmatizer.py:211: UserWarning: [W108] The rule-based lemmatizer did not find POS annotation for one or more tokens. Check that your pipeline includes components that assign token.pos, typically 'tagger'+'attribute_ruler' or 'morphologizer'.\n",
            "  warnings.warn(Warnings.W108)\n",
            "Tokenizing text: 100%|██████████| 220/220 [00:01<00:00, 178.84it/s]\n"
          ]
        }
      ]
    },
    {
      "cell_type": "code",
      "metadata": {
        "id": "MwHKx5fcxq70",
        "outputId": "f5d1d742-ad1b-4ce7-d454-44d3a796fce9",
        "colab": {
          "base_uri": "https://localhost:8080/"
        }
      },
      "source": [
        "ft_model = FastText(\n",
        "    sg=1, # use skip-gram: usually gives better results\n",
        "    size=100, # embedding dimension (default)\n",
        "    window=10, # window size: 10 tokens before and 10 tokens after to get wider context\n",
        "    min_count=5, # only consider tokens with at least n occurrences in the corpus\n",
        "    negative=15, # negative subsampling: bigger than default to sample negative examples more\n",
        "    min_n=2, # min character n-gram\n",
        "    max_n=5 # max character n-gram\n",
        ")\n",
        "ft_model.build_vocab(tok_text) # tok_text is our tokenized input text - a list of lists relating to docs and tokens respectivley\n",
        "\n",
        "ft_model.train(\n",
        "    tok_text,\n",
        "    epochs=6,\n",
        "    total_examples=ft_model.corpus_count, \n",
        "    total_words=ft_model.corpus_total_words)\n",
        "\n",
        "ft_model.save('_fasttext.model') #save\n",
        "ft_model = FastText.load('_fasttext.model') #load"
      ],
      "execution_count": null,
      "outputs": [
        {
          "output_type": "stream",
          "name": "stderr",
          "text": [
            "WARNING:gensim.models.base_any2vec:under 10 jobs per worker: consider setting a smaller `batch_words' for smoother alpha decay\n"
          ]
        }
      ]
    },
    {
      "cell_type": "code",
      "metadata": {
        "id": "NFqKwbjmqvSV"
      },
      "source": [
        "ft_model = FastText.load('_fasttext.model')"
      ],
      "execution_count": null,
      "outputs": []
    },
    {
      "cell_type": "code",
      "metadata": {
        "id": "OLwIfq-bLSCr"
      },
      "source": [
        "with plt.xkcd():\n",
        "  pd.DataFrame(ft_model.wv.most_similar(\"london\", topn=10, restrict_vocab=5000),columns=['Word','Score']).plot.barh(x='Word',figsize=(6,6),color=(0.3,0.7,0.7))"
      ],
      "execution_count": null,
      "outputs": []
    },
    {
      "cell_type": "code",
      "metadata": {
        "id": "ISuOgynlLe0T"
      },
      "source": [
        "with plt.xkcd():\n",
        "  pd.DataFrame(ft_model.wv.most_similar(\"england\", topn=10, restrict_vocab=10000),columns=['Word','Score']).plot.barh(x='Word',figsize=(6,6),color=(0.3,0.7,0.7))"
      ],
      "execution_count": null,
      "outputs": []
    },
    {
      "cell_type": "code",
      "metadata": {
        "id": "D58X-5E0sNDa",
        "outputId": "a10763a2-820b-4d65-9d07-8ce88221b09a",
        "colab": {
          "base_uri": "https://localhost:8080/"
        }
      },
      "source": [
        "bm25 = BM25Okapi(tok_text)\n",
        "weighted_doc_vects = []\n",
        "\n",
        "for i, doc in tqdm(enumerate(tok_text)):\n",
        "    doc_vector = []\n",
        "    for word in doc:\n",
        "        try:\n",
        "            vector = ft_model[word]\n",
        "            weight = (bm25.idf[word] * ((bm25.k1 + 1.0)*bm25.doc_freqs[i][word])) / (bm25.k1 * (1.0 - bm25.b + bm25.b *(bm25.doc_len[i]/bm25.avgdl))+bm25.doc_freqs[i][word])\n",
        "            weighted_vector = vector * weight\n",
        "            doc_vector.append(weighted_vector)\n",
        "        except KeyError:\n",
        "            continue\n",
        "    doc_vector_mean = np.mean(doc_vector,axis=0)\n",
        "    weighted_doc_vects.append(doc_vector_mean)"
      ],
      "execution_count": null,
      "outputs": [
        {
          "output_type": "stream",
          "name": "stderr",
          "text": [
            "0it [00:00, ?it/s]<ipython-input-14-74daef8bf42d>:8: DeprecationWarning: Call to deprecated `__getitem__` (Method will be removed in 4.0.0, use self.wv.__getitem__() instead).\n",
            "  vector = ft_model[word]\n",
            "220it [00:00, 531.26it/s]\n"
          ]
        }
      ]
    },
    {
      "cell_type": "code",
      "metadata": {
        "id": "zCE4948dvsy6"
      },
      "source": [
        "pickle.dump( weighted_doc_vects, open( \"weighted_doc_vects.p\", \"wb\" ) )"
      ],
      "execution_count": null,
      "outputs": []
    },
    {
      "cell_type": "code",
      "metadata": {
        "id": "-60uBQBW19W9"
      },
      "source": [
        "with open( \"weighted_doc_vects.p\", \"rb\" ) as f:\n",
        "  weighted_doc_vects = pickle.load(f)\n",
        "# create a random matrix to index\n",
        "data = np.vstack(weighted_doc_vects)\n",
        "\n",
        "# initialize a new index, using a HNSW index on Cosine Similarity - can take a couple of mins\n",
        "index = nmslib.init(method='hnsw', space='cosinesimil')\n",
        "index.addDataPointBatch(data)\n",
        "index.createIndex({'post': 2}, print_progress=True)"
      ],
      "execution_count": null,
      "outputs": []
    },
    {
      "cell_type": "code",
      "metadata": {
        "id": "63qqZjXT3BOH",
        "outputId": "4c400df6-2bbf-4fc4-a9d3-9da0661214e4",
        "colab": {
          "base_uri": "https://localhost:8080/"
        }
      },
      "source": [
        "# querying the index:\n",
        "input = 'Emotional'.lower().split()\n",
        "\n",
        "\n",
        "query = [ft_model[vec] for vec in input]\n",
        "query = np.mean(query,axis=0)\n",
        "\n",
        "t0 = time.time()\n",
        "ids, distances = index.knnQuery(query, k=10)\n",
        "t1 = time.time()\n",
        "print(f'Searched {df.shape[0]} records in {round(t1-t0,4) } seconds \\n')\n",
        "for i,j in zip(ids,distances):\n",
        "  print(round(j,2))\n",
        "  print(df.text.values[i])"
      ],
      "execution_count": null,
      "outputs": [
        {
          "output_type": "stream",
          "name": "stdout",
          "text": [
            "Searched 220 records in 0.0003 seconds \n",
            "\n",
            "0.01\n",
            "Tell Us About Your Care Partnerships The Care Quality Commission (CQC) is the independent regulatory of health and adult social care in England. CQC is responsible for monitoring and inspecting these services to ensure they are providing care that is safe, effective, caring and responsive to people's needs and well-led listening to acting on people's experiences of care is ... Publication date 27 February 2023 Closing 29 March 2023, 12pm Contract value £250,000 Contract location NE1 4PA\n",
            "0.02\n",
            "427 - Emotional and Mental Health Service for Children in Care and Care Leavers Wigan Council's requirements of an Emotional and Mental Health (EMH) Service for our Children in Care and our young people who have left our care; including children with neurodevelopmental / SEND / LD. The service is to be a flexible and a responsive service for this cohort of children and young people who have in the vast majority of cases, ... Publication date 27 February 2023 Closing 27 March 2023, 12pm Contract value £900,000 Contract location England\n",
            "0.02\n",
            "nan\n",
            "0.02\n",
            "nan\n",
            "0.02\n",
            "nan\n",
            "0.02\n",
            "nan\n",
            "0.02\n",
            "nan\n",
            "0.02\n",
            "nan\n",
            "0.02\n",
            "nan\n",
            "0.02\n",
            "nan\n"
          ]
        },
        {
          "output_type": "stream",
          "name": "stderr",
          "text": [
            "<ipython-input-25-65377f99f21a>:5: DeprecationWarning: Call to deprecated `__getitem__` (Method will be removed in 4.0.0, use self.wv.__getitem__() instead).\n",
            "  query = [ft_model[vec] for vec in input]\n"
          ]
        }
      ]
    },
    {
      "cell_type": "code",
      "source": [],
      "metadata": {
        "id": "2lKNa6vXaR7p"
      },
      "execution_count": null,
      "outputs": []
    }
  ]
}